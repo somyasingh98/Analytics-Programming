{
 "cells": [
  {
   "cell_type": "code",
   "execution_count": 162,
   "id": "1e9c3d87",
   "metadata": {},
   "outputs": [],
   "source": [
    "import re\n",
    "import statistics\n",
    "\n",
    "class Solution:\n",
    "    def __init__(self, data):\n",
    "            self.data = data\n",
    "            \n",
    "\n",
    "    def task_one(self):\n",
    "\n",
    "        # Finding all matches for Capacity and cleaning them\n",
    "        # Regular expression to find Capacity values\n",
    "        capacity_pattern = re.compile(r'CAPACITY[^:]*:(\\d+(?:,\\d{3})?)')\n",
    "        attendance_pattern = re.compile(r'ATTENDANCE: ([\\d,]+)')\n",
    "        capacities = capacity_pattern.findall(text)\n",
    "        capacity_values = [int(capacity.replace(',', '')) for capacity in capacities]\n",
    "        attendances = attendance_pattern.findall(text)\n",
    "        attendance_values = [int(attendance.replace(',', '')) for attendance in attendances]\n",
    "\n",
    "#         # Creating formatted strings\n",
    "#         capacity_str = f\"Capacities: {capacity_values}\"\n",
    "#         attendance_str = f\"Attendances: {attendance_values}\"\n",
    "        \n",
    "        return capacity_values,attendance_values\n",
    "\n",
    "    def task_two(self):\n",
    "        # Task 2: Extract artist names\n",
    "        # Regular expression to find artist names\n",
    "        artist_pattern = re.compile(r'\\*{5}([^*]+?)-')\n",
    "    \n",
    "        # Finding all matches for artist names and cleaning them by removing extra spaces\n",
    "        artist_names = [match.strip() for match in artist_pattern.findall(text)]\n",
    "        \n",
    "        \n",
    "    \n",
    "        return artist_names\n",
    "\n",
    "    def task_three(self):\n",
    "        # Regular expression to find the Gross ticket revenues, prefixed by \"GATE:\"\n",
    "        gate_pattern = re.compile(r'GATE:[\\s\\-\\$]*([\\d,]+(?:\\.\\d{2})?)')\n",
    "    \n",
    "        # Finding all matches for Gross ticket revenues, cleaning them, and converting to floats\n",
    "        gross_revenues = [float(revenue.replace(',', '')) for revenue in gate_pattern.findall(text)]\n",
    "    \n",
    "        return gross_revenues\n",
    "\n",
    "    def task_four(self):\n",
    "        # Task 4: Create nested dictionary with artist information\n",
    "        artist_names = self.task_two()\n",
    "        attendance_values = self.task_one()[1]\n",
    "        revenue_values = self.task_three()\n",
    "        \n",
    "        artist_info = {}\n",
    "        for i in range(len(artist_names)):\n",
    "            artist = artist_names[i]\n",
    "            average_ticket_price = revenue_values[i] / attendance_values[i]\n",
    "            average_ticket_price = '${:.2f}'.format(average_ticket_price)\n",
    "            is_multi_word_name = len(artist.split()) > 1\n",
    "            venue_fill_percentage = (attendance_values[i] / self.task_one()[0][i]) * 100\n",
    "            venue_fill_percentage = '{:.2f}%'.format(venue_fill_percentage)\n",
    "            \n",
    "            artist_info[artist] = {\n",
    "                'Average Ticket Price': average_ticket_price,\n",
    "                'More than one word Name': is_multi_word_name,\n",
    "                'Venue Fill Percentage': venue_fill_percentage\n",
    "            }\n",
    "        return artist_info\n",
    "\n",
    "\n",
    "\n",
    "    @staticmethod\n",
    "    def task_five():\n",
    "        \n",
    "# The initial regex pattern \\D[a-zA-Z]*[^,]= fails to match the string FIdD1E7h= because:\n",
    "\n",
    "# \\D: matches any non-digit character. It matches F.\n",
    "# [a-zA-Z]*: matches any alphabetical character zero or more times. It matches IdD.\n",
    "# [^,]: negates , and it would match any character except ,, but it fails here as the next character is a digit (1), which is not captured in the regex.\n",
    "        regex = r'\\D[a-zA-Z\\d]*='  # Corrected regex\n",
    "        string = 'FIdD1E7h='\n",
    "\n",
    "        match = re.match(regex, string)\n",
    "\n",
    "        if match:\n",
    "            return f\"Regular expression used: '{regex}'\\nMatch found: '{match.group()}'\"\n",
    "        else:\n",
    "            return f\"Regular expression used: '{regex}'\\nNo match found in: '{string}'\"\n",
    "\n",
    "\n",
    "\n",
    "    @staticmethod\n",
    "    def task_six():\n",
    "        regex = r'\\b\\w+ly\\b'\n",
    "        string_to_match = \"The spy was carefully disguised\"\n",
    "\n",
    "        # Using re.search() to find the regex pattern in the string\n",
    "        match = re.search(regex, string_to_match)\n",
    "\n",
    "        if match:\n",
    "            explanation = \"Match Successful: The corrected regex successfully matched the string.\"\n",
    "            return explanation, f\"Regular expression used: '{regex}'\", f\"Match found: '{match.group()}'\"\n",
    "        else:\n",
    "            explanation = \"Match Failed: The corrected regex didn’t match the string.\"\n",
    "            return explanation, f\"Regular expression used: '{regex}'\", f\"No match found in: '{string_to_match}'\"\n",
    "\n",
    "\n"
   ]
  },
  {
   "cell_type": "code",
   "execution_count": 163,
   "id": "4765af69",
   "metadata": {},
   "outputs": [
    {
     "name": "stdout",
     "output_type": "stream",
     "text": [
      "([1500, 25000, 3000, 12000, 20000], [1315, 24368, 3000, 10782, 20000])\n",
      "['Black Stone Cherry', 'Lady Gaga', 'Paramore', 'Rage Against the Machine', 'BEYONCE']\n",
      "[28492.0, 461956.0, 150000.0, 724087.0, 2400000.0]\n",
      "{'Black Stone Cherry': {'Average Ticket Price': '$21.67', 'More than one word Name': True, 'Venue Fill Percentage': '87.67%'}, 'Lady Gaga': {'Average Ticket Price': '$18.96', 'More than one word Name': True, 'Venue Fill Percentage': '97.47%'}, 'Paramore': {'Average Ticket Price': '$50.00', 'More than one word Name': False, 'Venue Fill Percentage': '100.00%'}, 'Rage Against the Machine': {'Average Ticket Price': '$67.16', 'More than one word Name': True, 'Venue Fill Percentage': '89.85%'}, 'BEYONCE': {'Average Ticket Price': '$120.00', 'More than one word Name': False, 'Venue Fill Percentage': '100.00%'}}\n"
     ]
    }
   ],
   "source": [
    "# Create an instance of the class with your data string\n",
    "text = \"\"\"\n",
    "JUNE:*****Black Stone Cherry---CAPACITY---:1500 -- $ATTENDANCE: 1,315--GATE:--$28,492 ;\n",
    "*****Lady Gaga ----CAPACITY---:25,000--- $ATTENDANCE: 24,368---GATE:--$461,956#;\n",
    "*****Paramore ----CAPACITY---:3000 ---$ATTENDANCE: 3,000 ---GATE:-$150,000;\n",
    "*****Rage Against the Machine---CAPACITY---:12000 ---$ATTENDANCE: 10,782 ---GATE: --$724,087;\n",
    "*****BEYONCE---CAPACITY--:20000---$ATTENDANCE: 20,000—-GATE:$2,400,000*****\n",
    "\"\"\"\n",
    "\n",
    "concert_processor = Solution(text)\n",
    "print(concert_processor.task_one())\n",
    "print(concert_processor.task_two())\n",
    "print(concert_processor.task_three())\n",
    "print(concert_processor.task_four())"
   ]
  },
  {
   "cell_type": "code",
   "execution_count": 164,
   "id": "fd2a3327",
   "metadata": {},
   "outputs": [
    {
     "name": "stdout",
     "output_type": "stream",
     "text": [
      "Regular expression used: '\\D[a-zA-Z\\d]*='\n",
      "Match found: 'FIdD1E7h='\n"
     ]
    }
   ],
   "source": [
    "\n",
    "print(concert_processor.task_five())"
   ]
  },
  {
   "cell_type": "code",
   "execution_count": 165,
   "id": "07add4ae",
   "metadata": {},
   "outputs": [
    {
     "name": "stdout",
     "output_type": "stream",
     "text": [
      "('Match Successful: The corrected regex successfully matched the string.', \"Regular expression used: '\\\\b\\\\w+ly\\\\b'\", \"Match found: 'carefully'\")\n"
     ]
    }
   ],
   "source": [
    "print(concert_processor.task_six())"
   ]
  },
  {
   "cell_type": "code",
   "execution_count": null,
   "id": "40c2e4ea",
   "metadata": {},
   "outputs": [],
   "source": []
  }
 ],
 "metadata": {
  "kernelspec": {
   "display_name": "Python 3 (ipykernel)",
   "language": "python",
   "name": "python3"
  },
  "language_info": {
   "codemirror_mode": {
    "name": "ipython",
    "version": 3
   },
   "file_extension": ".py",
   "mimetype": "text/x-python",
   "name": "python",
   "nbconvert_exporter": "python",
   "pygments_lexer": "ipython3",
   "version": "3.9.12"
  }
 },
 "nbformat": 4,
 "nbformat_minor": 5
}
